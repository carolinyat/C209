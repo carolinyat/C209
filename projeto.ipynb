{
 "cells": [
  {
   "cell_type": "code",
   "execution_count": null,
   "metadata": {},
   "outputs": [],
   "source": [
    "import moviepy.editor as mpe\n",
    "import numpy as np\n",
    "import matplotlib.pyplot as plt\n",
    "\n",
    "from moviepy.editor import VideoFileClip, concatenate_videoclips, vfx"
   ]
  },
  {
   "cell_type": "code",
   "execution_count": 66,
   "metadata": {},
   "outputs": [],
   "source": [
    "video = VideoFileClip(\"video.mp4\")\n",
    "\n",
    "# 2. Aplicar inversão no eixo horizontal a cada 20 segundos\n",
    "clips = []\n",
    "for i in range(0, int(video.duration), 20):\n",
    "    clip = video.subclip(i, min(i + 20, video.duration))\n",
    "    if (i // 20) % 2 == 1:  # Inverte a cada 20 segundos\n",
    "        clip = clip.fx(vfx.mirror_x)\n",
    "    clips.append(clip)\n",
    "\n",
    "inverted_video = concatenate_videoclips(clips, method=\"compose\")"
   ]
  },
  {
   "cell_type": "code",
   "execution_count": 67,
   "metadata": {},
   "outputs": [],
   "source": [
    "# 3. Reduzir o som gradativamente\n",
    "def fade_audio(t):\n",
    "    duration = inverted_video.duration\n",
    "    if t >= duration - 10:  # Últimos 10 segundos em silêncio\n",
    "        return 0\n",
    "    else:  # Graduação a cada 30 segundos\n",
    "        return max(0, 1 - (t // 30) * 0.1)  # Redução gradual de 10% a cada 30 segundos\n",
    "\n",
    "# Aplicar a redução de som ao áudio\n",
    "faded_audio = inverted_video.audio.volumex(fade_audio)\n",
    "video_with_faded_audio = inverted_video.set_audio(faded_audio)"
   ]
  },
  {
   "cell_type": "code",
   "execution_count": null,
   "metadata": {},
   "outputs": [],
   "source": [
    "# 4. Cortar o trecho entre 60 e 80 segundos\n",
    "cut_part = video_with_faded_audio.subclip(60, 80)"
   ]
  },
  {
   "cell_type": "code",
   "execution_count": null,
   "metadata": {},
   "outputs": [],
   "source": [
    "# 5. Adicionar o trecho cortado ao final\n",
    "main_part = video_with_faded_audio.subclip(0, 60)\n",
    "remaining_part = video_with_faded_audio.subclip(80, video_with_faded_audio.duration)\n",
    "final_video = concatenate_videoclips([main_part, remaining_part, cut_part], method=\"compose\")"
   ]
  },
  {
   "cell_type": "code",
   "execution_count": null,
   "metadata": {},
   "outputs": [],
   "source": [
    "final_video.write_videofile(\"final_video.mp4\", codec=\"libx264\", audio_codec=\"aac\")"
   ]
  }
 ],
 "metadata": {
  "kernelspec": {
   "display_name": "Python 3",
   "language": "python",
   "name": "python3"
  },
  "language_info": {
   "codemirror_mode": {
    "name": "ipython",
    "version": 3
   },
   "file_extension": ".py",
   "mimetype": "text/x-python",
   "name": "python",
   "nbconvert_exporter": "python",
   "pygments_lexer": "ipython3",
   "version": "3.11.0"
  }
 },
 "nbformat": 4,
 "nbformat_minor": 2
}
