{
 "cells": [
  {
   "cell_type": "code",
   "execution_count": null,
   "metadata": {},
   "outputs": [],
   "source": [
    "import moviepy.editor as mpe\n",
    "import numpy as np\n",
    "import matplotlib.pyplot as plt\n",
    "\n",
    "from moviepy.editor import VideoFileClip, concatenate_videoclips, vfx"
   ]
  },
  {
   "cell_type": "code",
   "execution_count": null,
   "metadata": {},
   "outputs": [],
   "source": [
    "video = VideoFileClip(\"video.mp4\")\n",
    "\n",
    "# 2. Aplicar inversão no eixo horizontal a cada 20 segundos\n",
    "clips = []\n",
    "for start in range(0, int(video.duration), 20):\n",
    "    clip = video.subclip(start, min(start + 20, video.duration))\n",
    "    if (start // 20) % 2 == 1:\n",
    "        clip = clip.fx(vfx.mirror_x)\n",
    "    clips.append(clip)\n",
    "\n",
    "video_inverted = concatenate_videoclips(clips, method=\"compose\")\n"
   ]
  },
  {
   "cell_type": "code",
   "execution_count": null,
   "metadata": {},
   "outputs": [],
   "source": [
    "# 3. Reduzir o som gradativamente\n",
    "def adjust_volume(t):\n",
    "    total_duration = video_inverted.duration\n",
    "    if t >= total_duration - 10:  # Últimos 10 segundos em silêncio\n",
    "        return 0\n",
    "    return max(0, 1 - (t // 30) * 0.1)\n",
    "\n",
    "audio_adjusted = video_inverted.audio.volumex(adjust_volume)\n",
    "video_audio = video_inverted.set_audio(audio_adjusted)"
   ]
  },
  {
   "cell_type": "code",
   "execution_count": null,
   "metadata": {},
   "outputs": [],
   "source": [
    "# 4. Cortar o trecho entre 60 e 80 segundos\n",
    "part1 = video_audio.subclip(0, 60)\n",
    "part2 = video_audio.subclip(60, 80)\n",
    "part3 = video_audio.subclip(80, video_audio.duration)\n",
    "\n"
   ]
  },
  {
   "cell_type": "code",
   "execution_count": null,
   "metadata": {},
   "outputs": [],
   "source": [
    "# 5. Adicionar o trecho cortado ao final\n",
    "video_final = concatenate_videoclips([part1, part3, part2], method=\"compose\")\n"
   ]
  },
  {
   "cell_type": "code",
   "execution_count": null,
   "metadata": {},
   "outputs": [],
   "source": [
    "video_final.write_videofile(\"video_final.mp4\", codec=\"libx264\", audio_codec=\"aac\")\n"
   ]
  }
 ],
 "metadata": {
  "kernelspec": {
   "display_name": "Python 3",
   "language": "python",
   "name": "python3"
  },
  "language_info": {
   "codemirror_mode": {
    "name": "ipython",
    "version": 3
   },
   "file_extension": ".py",
   "mimetype": "text/x-python",
   "name": "python",
   "nbconvert_exporter": "python",
   "pygments_lexer": "ipython3",
   "version": "3.11.0"
  }
 },
 "nbformat": 4,
 "nbformat_minor": 2
}
