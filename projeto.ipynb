{
 "cells": [
  {
   "cell_type": "code",
   "execution_count": null,
   "metadata": {},
   "outputs": [],
   "source": [
    "import moviepy.editor as mpe\n",
    "import numpy as np\n",
    "import matplotlib.pyplot as plt\n",
    "\n",
    "from moviepy.editor import VideoFileClip, concatenate_videoclips, vfx"
   ]
  },
  {
   "cell_type": "code",
   "execution_count": null,
   "metadata": {},
   "outputs": [],
   "source": [
    "video = VideoFileClip(\"video.mp4\")\n",
    "\n",
    "# 2. Aplicar inversão no eixo horizontal a cada 20 segundos\n",
    "clips = []\n",
    "for i in range(0, int(video.duration), 20):\n",
    "    clip = video.subclip(i, min(i + 20, video.duration))\n",
    "    if (i // 20) % 2 == 1:\n",
    "        clip = clip.fx(vfx.mirror_x)  # Inverter horizontalmente\n",
    "    clips.append(clip)\n",
    "\n",
    "processed_video = concatenate_videoclips(clips, method=\"compose\")\n"
   ]
  },
  {
   "cell_type": "code",
   "execution_count": null,
   "metadata": {},
   "outputs": [],
   "source": [
    "# 3. Reduzir o som gradativamente\n",
    "def fade_audio(t):\n",
    "    duration = processed_video.duration\n",
    "    if t >= duration - 10:  # Últimos 10 segundos em silêncio\n",
    "        return 0\n",
    "    else:  # Graduação a cada 30 segundos\n",
    "        return max(0, 1 - (t // 30) * 0.1)\n",
    "\n",
    "faded_audio = processed_video.audio.volumex(fade_audio)\n",
    "video_with_faded_audio = processed_video.set_audio(faded_audio)"
   ]
  },
  {
   "cell_type": "code",
   "execution_count": null,
   "metadata": {},
   "outputs": [],
   "source": [
    "# 4. Cortar o trecho entre 60 e 80 segundos\n",
    "main_part = video_with_faded_audio.subclip(0, 60)\n",
    "cut_part = video_with_faded_audio.subclip(60, 80)\n",
    "remaining_part = video_with_faded_audio.subclip(80, video_with_faded_audio.duration)\n",
    "\n"
   ]
  },
  {
   "cell_type": "code",
   "execution_count": null,
   "metadata": {},
   "outputs": [],
   "source": [
    "# 5. Adicionar o trecho cortado ao final\n",
    "final_video = concatenate_videoclips([main_part, remaining_part, cut_part], method=\"compose\")"
   ]
  },
  {
   "cell_type": "code",
   "execution_count": null,
   "metadata": {},
   "outputs": [],
   "source": [
    "final_video.write_videofile(\"video_final.mp4\", codec=\"libx264\", audio_codec=\"aac\")"
   ]
  }
 ],
 "metadata": {
  "kernelspec": {
   "display_name": "Python 3",
   "language": "python",
   "name": "python3"
  },
  "language_info": {
   "codemirror_mode": {
    "name": "ipython",
    "version": 3
   },
   "file_extension": ".py",
   "mimetype": "text/x-python",
   "name": "python",
   "nbconvert_exporter": "python",
   "pygments_lexer": "ipython3",
   "version": "3.11.0"
  }
 },
 "nbformat": 4,
 "nbformat_minor": 2
}
